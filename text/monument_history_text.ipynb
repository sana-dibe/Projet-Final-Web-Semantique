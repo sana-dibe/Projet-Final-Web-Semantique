{
  "nbformat": 4,
  "nbformat_minor": 0,
  "metadata": {
    "colab": {
      "provenance": []
    },
    "kernelspec": {
      "name": "python3",
      "display_name": "Python 3"
    },
    "language_info": {
      "name": "python"
    },
    "accelerator": "GPU",
    "gpuClass": "standard"
  },
  "cells": [
    {
      "cell_type": "markdown",
      "source": [
        "Nous avons pris 2 exemples de textes récupéré de wikipedia pour les deux monuments : Mémorial de la Shoah et Mémorial des Martyrs de la Déportation\n"
      ],
      "metadata": {
        "id": "EpeVSJxE9UGk"
      }
    },
    {
      "cell_type": "code",
      "source": [
        "!pip install pyspotlight\n",
        "!pip install SPARQLWrapper"
      ],
      "metadata": {
        "colab": {
          "base_uri": "https://localhost:8080/"
        },
        "id": "hYEv-f-3Amu_",
        "outputId": "3a45bc54-5e7b-4837-daf6-413d1fcac133"
      },
      "execution_count": 1,
      "outputs": [
        {
          "output_type": "stream",
          "name": "stdout",
          "text": [
            "Looking in indexes: https://pypi.org/simple, https://us-python.pkg.dev/colab-wheels/public/simple/\n",
            "Requirement already satisfied: pyspotlight in /usr/local/lib/python3.8/dist-packages (0.7.2)\n",
            "Requirement already satisfied: requests~=2.10 in /usr/local/lib/python3.8/dist-packages (from pyspotlight) (2.25.1)\n",
            "Requirement already satisfied: idna<3,>=2.5 in /usr/local/lib/python3.8/dist-packages (from requests~=2.10->pyspotlight) (2.10)\n",
            "Requirement already satisfied: chardet<5,>=3.0.2 in /usr/local/lib/python3.8/dist-packages (from requests~=2.10->pyspotlight) (4.0.0)\n",
            "Requirement already satisfied: urllib3<1.27,>=1.21.1 in /usr/local/lib/python3.8/dist-packages (from requests~=2.10->pyspotlight) (1.24.3)\n",
            "Requirement already satisfied: certifi>=2017.4.17 in /usr/local/lib/python3.8/dist-packages (from requests~=2.10->pyspotlight) (2022.12.7)\n",
            "Looking in indexes: https://pypi.org/simple, https://us-python.pkg.dev/colab-wheels/public/simple/\n",
            "Requirement already satisfied: SPARQLWrapper in /usr/local/lib/python3.8/dist-packages (2.0.0)\n",
            "Requirement already satisfied: rdflib>=6.1.1 in /usr/local/lib/python3.8/dist-packages (from SPARQLWrapper) (6.2.0)\n",
            "Requirement already satisfied: isodate in /usr/local/lib/python3.8/dist-packages (from rdflib>=6.1.1->SPARQLWrapper) (0.6.1)\n",
            "Requirement already satisfied: setuptools in /usr/local/lib/python3.8/dist-packages (from rdflib>=6.1.1->SPARQLWrapper) (57.4.0)\n",
            "Requirement already satisfied: pyparsing in /usr/local/lib/python3.8/dist-packages (from rdflib>=6.1.1->SPARQLWrapper) (3.0.9)\n",
            "Requirement already satisfied: six in /usr/local/lib/python3.8/dist-packages (from isodate->rdflib>=6.1.1->SPARQLWrapper) (1.15.0)\n"
          ]
        }
      ]
    },
    {
      "cell_type": "code",
      "source": [
        "import spotlight\n",
        "import json\n",
        "from SPARQLWrapper import SPARQLWrapper, JSON"
      ],
      "metadata": {
        "id": "KfhE-q5BAvzo"
      },
      "execution_count": 2,
      "outputs": []
    },
    {
      "cell_type": "markdown",
      "source": [
        "## Fonction d'annotation"
      ],
      "metadata": {
        "id": "xWBaHJnzPpPB"
      }
    },
    {
      "cell_type": "code",
      "source": [
        "\"\"\"Annotation function\"\"\"\n",
        "def spotlight_annotate(text, confidence=0.4, support=20):\n",
        "    # Set the API endpoint URL\n",
        "    endpoint = 'https://api.dbpedia-spotlight.org/en/annotate'\n",
        "\n",
        "    # Set the parameters : text, confidence and support\n",
        "    # Support : il s'agit du paramètre « Resource Prominence », qui aide à ignorer les ressources \n",
        "    # peu importantes ou peu informatives. Lorsque on lui attribue une valeur X, cela signifie que les\n",
        "    # ressources dont le nombre de \"in-links\" Wikipedia est inférieur à X seront ignorées et ne \n",
        "    # seront pas renvoyées. \n",
        "    # Confidence : c'est le paramètre « Disambiguation Confidence », c'est un \n",
        "    # seuil qui prend une valeur entre 0 et 1. Lorsque on lui donne une valeur élevée, on obtient\n",
        "    # des annotations meilleures et plus fiables mais on risque de perdre certaines annotations correctes\n",
        "\n",
        "    # Send the request to the API endpoint\n",
        "    response = spotlight.annotate(endpoint, text, confidence=confidence, support=support)\n",
        "\n",
        "    return response\n",
        "    "
      ],
      "metadata": {
        "id": "xUP-vWURPtbc"
      },
      "execution_count": 3,
      "outputs": []
    },
    {
      "cell_type": "markdown",
      "source": [
        "## Fonction pour stocker des annotations dans un fichier json\n"
      ],
      "metadata": {
        "id": "JHJ1-sVNPzIm"
      }
    },
    {
      "cell_type": "code",
      "source": [
        "def store_annotations(data):\n",
        "    # Convert the data to JSON \n",
        "    json_data = json.dumps(data, indent=4, separators=(',', ': '), sort_keys=True)\n",
        "    # Store it in a file\n",
        "    with open(\"annotated_data.json\", \"w\") as outfile:\n",
        "        outfile.write(json_data)"
      ],
      "metadata": {
        "id": "Og483Z5jP-OE"
      },
      "execution_count": 4,
      "outputs": []
    },
    {
      "cell_type": "code",
      "source": [
        "# Extracting the URIs from the JSON data. The function takes a list of dictionaries (data) as an input, \n",
        "# and for each dictionary in the list (annotation), it appends the value of the URI key to the URIs list.\n",
        "def extract_URIs(data):\n",
        "    URIs = []\n",
        "    for annotation in data:\n",
        "        URIs.append(annotation['URI'])\n",
        "    return URIs"
      ],
      "metadata": {
        "id": "Iz9THEyUR_AB"
      },
      "execution_count": 6,
      "outputs": []
    },
    {
      "cell_type": "code",
      "source": [
        "# Get a list of tuple containing URI and surfaceform for each annotation\n",
        "def extract_URIs_entities(data):\n",
        "    return [(annotation['URI'], annotation['surfaceForm']) for annotation in data]"
      ],
      "metadata": {
        "id": "zt7ykRuQ0Q3o"
      },
      "execution_count": 7,
      "outputs": []
    },
    {
      "cell_type": "markdown",
      "source": [
        "### Lire les deux fichiers exemple"
      ],
      "metadata": {
        "id": "NS10HuJoCxoZ"
      }
    },
    {
      "cell_type": "code",
      "source": [
        "from google.colab import files\n",
        "import codecs\n",
        "\n",
        "# Upload the file to Google Colab\n",
        "uploaded = files.upload()\n",
        "\n",
        "with open(\"Mémorial de la Shoah.txt\", \"r\", encoding=\"utf-8\") as f:\n",
        "  # Read the contents of the file\n",
        "  text1 = f.read()\n"
      ],
      "metadata": {
        "colab": {
          "base_uri": "https://localhost:8080/",
          "height": 73
        },
        "id": "862nlyYaCxPp",
        "outputId": "e194e435-ec55-4dd3-e6cf-8343315922b8"
      },
      "execution_count": 60,
      "outputs": [
        {
          "output_type": "display_data",
          "data": {
            "text/plain": [
              "<IPython.core.display.HTML object>"
            ],
            "text/html": [
              "\n",
              "     <input type=\"file\" id=\"files-315db059-2bfa-4534-983b-3aa9209fe79f\" name=\"files[]\" multiple disabled\n",
              "        style=\"border:none\" />\n",
              "     <output id=\"result-315db059-2bfa-4534-983b-3aa9209fe79f\">\n",
              "      Upload widget is only available when the cell has been executed in the\n",
              "      current browser session. Please rerun this cell to enable.\n",
              "      </output>\n",
              "      <script>// Copyright 2017 Google LLC\n",
              "//\n",
              "// Licensed under the Apache License, Version 2.0 (the \"License\");\n",
              "// you may not use this file except in compliance with the License.\n",
              "// You may obtain a copy of the License at\n",
              "//\n",
              "//      http://www.apache.org/licenses/LICENSE-2.0\n",
              "//\n",
              "// Unless required by applicable law or agreed to in writing, software\n",
              "// distributed under the License is distributed on an \"AS IS\" BASIS,\n",
              "// WITHOUT WARRANTIES OR CONDITIONS OF ANY KIND, either express or implied.\n",
              "// See the License for the specific language governing permissions and\n",
              "// limitations under the License.\n",
              "\n",
              "/**\n",
              " * @fileoverview Helpers for google.colab Python module.\n",
              " */\n",
              "(function(scope) {\n",
              "function span(text, styleAttributes = {}) {\n",
              "  const element = document.createElement('span');\n",
              "  element.textContent = text;\n",
              "  for (const key of Object.keys(styleAttributes)) {\n",
              "    element.style[key] = styleAttributes[key];\n",
              "  }\n",
              "  return element;\n",
              "}\n",
              "\n",
              "// Max number of bytes which will be uploaded at a time.\n",
              "const MAX_PAYLOAD_SIZE = 100 * 1024;\n",
              "\n",
              "function _uploadFiles(inputId, outputId) {\n",
              "  const steps = uploadFilesStep(inputId, outputId);\n",
              "  const outputElement = document.getElementById(outputId);\n",
              "  // Cache steps on the outputElement to make it available for the next call\n",
              "  // to uploadFilesContinue from Python.\n",
              "  outputElement.steps = steps;\n",
              "\n",
              "  return _uploadFilesContinue(outputId);\n",
              "}\n",
              "\n",
              "// This is roughly an async generator (not supported in the browser yet),\n",
              "// where there are multiple asynchronous steps and the Python side is going\n",
              "// to poll for completion of each step.\n",
              "// This uses a Promise to block the python side on completion of each step,\n",
              "// then passes the result of the previous step as the input to the next step.\n",
              "function _uploadFilesContinue(outputId) {\n",
              "  const outputElement = document.getElementById(outputId);\n",
              "  const steps = outputElement.steps;\n",
              "\n",
              "  const next = steps.next(outputElement.lastPromiseValue);\n",
              "  return Promise.resolve(next.value.promise).then((value) => {\n",
              "    // Cache the last promise value to make it available to the next\n",
              "    // step of the generator.\n",
              "    outputElement.lastPromiseValue = value;\n",
              "    return next.value.response;\n",
              "  });\n",
              "}\n",
              "\n",
              "/**\n",
              " * Generator function which is called between each async step of the upload\n",
              " * process.\n",
              " * @param {string} inputId Element ID of the input file picker element.\n",
              " * @param {string} outputId Element ID of the output display.\n",
              " * @return {!Iterable<!Object>} Iterable of next steps.\n",
              " */\n",
              "function* uploadFilesStep(inputId, outputId) {\n",
              "  const inputElement = document.getElementById(inputId);\n",
              "  inputElement.disabled = false;\n",
              "\n",
              "  const outputElement = document.getElementById(outputId);\n",
              "  outputElement.innerHTML = '';\n",
              "\n",
              "  const pickedPromise = new Promise((resolve) => {\n",
              "    inputElement.addEventListener('change', (e) => {\n",
              "      resolve(e.target.files);\n",
              "    });\n",
              "  });\n",
              "\n",
              "  const cancel = document.createElement('button');\n",
              "  inputElement.parentElement.appendChild(cancel);\n",
              "  cancel.textContent = 'Cancel upload';\n",
              "  const cancelPromise = new Promise((resolve) => {\n",
              "    cancel.onclick = () => {\n",
              "      resolve(null);\n",
              "    };\n",
              "  });\n",
              "\n",
              "  // Wait for the user to pick the files.\n",
              "  const files = yield {\n",
              "    promise: Promise.race([pickedPromise, cancelPromise]),\n",
              "    response: {\n",
              "      action: 'starting',\n",
              "    }\n",
              "  };\n",
              "\n",
              "  cancel.remove();\n",
              "\n",
              "  // Disable the input element since further picks are not allowed.\n",
              "  inputElement.disabled = true;\n",
              "\n",
              "  if (!files) {\n",
              "    return {\n",
              "      response: {\n",
              "        action: 'complete',\n",
              "      }\n",
              "    };\n",
              "  }\n",
              "\n",
              "  for (const file of files) {\n",
              "    const li = document.createElement('li');\n",
              "    li.append(span(file.name, {fontWeight: 'bold'}));\n",
              "    li.append(span(\n",
              "        `(${file.type || 'n/a'}) - ${file.size} bytes, ` +\n",
              "        `last modified: ${\n",
              "            file.lastModifiedDate ? file.lastModifiedDate.toLocaleDateString() :\n",
              "                                    'n/a'} - `));\n",
              "    const percent = span('0% done');\n",
              "    li.appendChild(percent);\n",
              "\n",
              "    outputElement.appendChild(li);\n",
              "\n",
              "    const fileDataPromise = new Promise((resolve) => {\n",
              "      const reader = new FileReader();\n",
              "      reader.onload = (e) => {\n",
              "        resolve(e.target.result);\n",
              "      };\n",
              "      reader.readAsArrayBuffer(file);\n",
              "    });\n",
              "    // Wait for the data to be ready.\n",
              "    let fileData = yield {\n",
              "      promise: fileDataPromise,\n",
              "      response: {\n",
              "        action: 'continue',\n",
              "      }\n",
              "    };\n",
              "\n",
              "    // Use a chunked sending to avoid message size limits. See b/62115660.\n",
              "    let position = 0;\n",
              "    do {\n",
              "      const length = Math.min(fileData.byteLength - position, MAX_PAYLOAD_SIZE);\n",
              "      const chunk = new Uint8Array(fileData, position, length);\n",
              "      position += length;\n",
              "\n",
              "      const base64 = btoa(String.fromCharCode.apply(null, chunk));\n",
              "      yield {\n",
              "        response: {\n",
              "          action: 'append',\n",
              "          file: file.name,\n",
              "          data: base64,\n",
              "        },\n",
              "      };\n",
              "\n",
              "      let percentDone = fileData.byteLength === 0 ?\n",
              "          100 :\n",
              "          Math.round((position / fileData.byteLength) * 100);\n",
              "      percent.textContent = `${percentDone}% done`;\n",
              "\n",
              "    } while (position < fileData.byteLength);\n",
              "  }\n",
              "\n",
              "  // All done.\n",
              "  yield {\n",
              "    response: {\n",
              "      action: 'complete',\n",
              "    }\n",
              "  };\n",
              "}\n",
              "\n",
              "scope.google = scope.google || {};\n",
              "scope.google.colab = scope.google.colab || {};\n",
              "scope.google.colab._files = {\n",
              "  _uploadFiles,\n",
              "  _uploadFilesContinue,\n",
              "};\n",
              "})(self);\n",
              "</script> "
            ]
          },
          "metadata": {}
        },
        {
          "output_type": "stream",
          "name": "stdout",
          "text": [
            "Saving Mémorial de la Shoah.txt to Mémorial de la Shoah (3).txt\n"
          ]
        }
      ]
    },
    {
      "cell_type": "code",
      "source": [
        "print(text1)"
      ],
      "metadata": {
        "colab": {
          "base_uri": "https://localhost:8080/"
        },
        "id": "l0BcoPl0DWJb",
        "outputId": "35ff7eba-4d52-4cdb-f11e-15d16638836b"
      },
      "execution_count": 61,
      "outputs": [
        {
          "output_type": "stream",
          "name": "stdout",
          "text": [
            "Mémorial de la Shoah\n",
            "\n",
            "Historique du mémorial\n",
            "\n",
            "En avril 1943, pendant la Seconde Guerre mondiale à Grenoble, Isaac Schneersohn et Léon Poliakov fondèrent clandestinement le Centre de documentation juive contemporaine, dans le but de réunir des preuves documentaires sur la destruction des Juifs d'Europe.\n",
            "\n",
            "En 1957, fut inauguré le Mémorial du Martyr juif inconnu. En janvier 2005, l'ensemble du site avec le Mur des Noms prend le nom de Mémorial de la Shoah.\n",
            "\n",
            "Le 21 septembre 2012, un mémorial situé sur le site de l’ancien camp de Drancy1 a été inauguré par François Hollande, président de la République française2.\n",
            "\n",
            "Le mémorial est présidé depuis 2005 par Éric de Rothschild.\n"
          ]
        }
      ]
    },
    {
      "cell_type": "code",
      "source": [
        "response1 = spotlight_annotate(text1)\n",
        "# Call the function to store the annotations in a json file\n",
        "store_annotations(response1)\n",
        "response1 = [entry for entry in response1 if entry['similarityScore'] >= 0.99]\n",
        "\n",
        "# Print the annotations\n",
        "print(response1)"
      ],
      "metadata": {
        "colab": {
          "base_uri": "https://localhost:8080/"
        },
        "id": "1n33KJ4YB5yq",
        "outputId": "ebea4e40-21a1-4e72-97a7-e5d069da9f44"
      },
      "execution_count": 36,
      "outputs": [
        {
          "output_type": "stream",
          "name": "stdout",
          "text": [
            "[{'URI': 'http://dbpedia.org/resource/Mémorial_de_la_Shoah', 'support': 30, 'types': 'Wikidata:Q41176,Wikidata:Q33506,Schema:Place,DBpedia:Place,DBpedia:Location,DBpedia:Building,DBpedia:ArchitecturalStructure,DBpedia:Museum', 'surfaceForm': 'Mémorial de la Shoah', 'offset': 0, 'similarityScore': 1.0, 'percentageOfSecondRank': 0.0}, {'URI': 'http://dbpedia.org/resource/Pendant', 'support': 378, 'types': '', 'surfaceForm': 'pendant', 'offset': 61, 'similarityScore': 0.9999999970814315, 'percentageOfSecondRank': 2.9087849991348443e-09}, {'URI': 'http://dbpedia.org/resource/Grenoble', 'support': 4077, 'types': 'Wikidata:Q486972,Schema:Place,DBpedia:PopulatedPlace,DBpedia:Place,DBpedia:Location,DBpedia:Settlement', 'surfaceForm': 'Grenoble', 'offset': 98, 'similarityScore': 1.0, 'percentageOfSecondRank': 1.2765441920642218e-16}, {'URI': 'http://dbpedia.org/resource/Léon_Poliakov', 'support': 89, 'types': '', 'surfaceForm': 'Léon Poliakov', 'offset': 129, 'similarityScore': 0.9999999711003515, 'percentageOfSecondRank': 0.0}, {'URI': 'http://dbpedia.org/resource/Mur_(river)', 'support': 477, 'types': 'Wikidata:Q47521,Wikidata:Q4022,Schema:RiverBodyOfWater,Schema:Place,Schema:BodyOfWater,DBpedia:Stream,DBpedia:Place,DBpedia:NaturalPlace,DBpedia:Location,DBpedia:BodyOfWater,DBpedia:River', 'surfaceForm': 'Mur', 'offset': 407, 'similarityScore': 0.997736914665059, 'percentageOfSecondRank': 0.0}, {'URI': 'http://dbpedia.org/resource/Mémorial_de_la_Shoah', 'support': 30, 'types': 'Wikidata:Q41176,Wikidata:Q33506,Schema:Place,DBpedia:Place,DBpedia:Location,DBpedia:Building,DBpedia:ArchitecturalStructure,DBpedia:Museum', 'surfaceForm': 'Mémorial de la Shoah', 'offset': 436, 'similarityScore': 1.0, 'percentageOfSecondRank': 0.0}, {'URI': 'http://dbpedia.org/resource/François_Hollande', 'support': 1329, 'types': 'Http://xmlns.com/foaf/0.1/Person,Wikidata:Q82955,Wikidata:Q5,Wikidata:Q24229398,Wikidata:Q215627,DUL:NaturalPerson,DUL:Agent,Schema:Person,DBpedia:Person,DBpedia:Agent,DBpedia:Politician', 'surfaceForm': 'François Hollande', 'offset': 558, 'similarityScore': 0.9999999877713891, 'percentageOfSecondRank': 0.0}]\n"
          ]
        }
      ]
    },
    {
      "cell_type": "code",
      "source": [
        "def check_person(uris):\n",
        "    # Initialize the SPARQLWrapper\n",
        "    sparql = SPARQLWrapper(\"http://dbpedia.org/sparql\")\n",
        "    \n",
        "    valid_uris = []\n",
        "    for URI in uris:\n",
        "        # Define the query to get the rdf:type property\n",
        "        query = f\"SELECT ?type WHERE {{<{URI}> a ?type}}\"\n",
        "        # Set the query\n",
        "        sparql.setQuery(query)\n",
        "        # Set the return format as JSON\n",
        "        sparql.setReturnFormat(JSON)\n",
        "        # Execute the query\n",
        "        results = sparql.query().convert()\n",
        "        # Extract the rdf:type values\n",
        "        types = [result[\"type\"][\"value\"] for result in results[\"results\"][\"bindings\"]]\n",
        "        # Check if dbo:Person is in the rdf:type values\n",
        "        if \"http://dbpedia.org/ontology/Person\" in types:\n",
        "            valid_uris.append(URI)\n",
        "            \n",
        "    return valid_uris\n"
      ],
      "metadata": {
        "id": "G2_-2OWQO9sM"
      },
      "execution_count": 42,
      "outputs": []
    },
    {
      "cell_type": "code",
      "source": [
        "uris1 = extract_URIs(response1)\n",
        "uris1"
      ],
      "metadata": {
        "colab": {
          "base_uri": "https://localhost:8080/"
        },
        "id": "tO0dDwI-UKZX",
        "outputId": "88488212-884e-4571-9367-c9f1b22f0e25"
      },
      "execution_count": 43,
      "outputs": [
        {
          "output_type": "execute_result",
          "data": {
            "text/plain": [
              "['http://dbpedia.org/resource/Mémorial_de_la_Shoah',\n",
              " 'http://dbpedia.org/resource/Pendant',\n",
              " 'http://dbpedia.org/resource/Grenoble',\n",
              " 'http://dbpedia.org/resource/Léon_Poliakov',\n",
              " 'http://dbpedia.org/resource/Mur_(river)',\n",
              " 'http://dbpedia.org/resource/Mémorial_de_la_Shoah',\n",
              " 'http://dbpedia.org/resource/François_Hollande']"
            ]
          },
          "metadata": {},
          "execution_count": 43
        }
      ]
    },
    {
      "cell_type": "code",
      "source": [
        "uris1 = check_person(uris1)\n",
        "uris1"
      ],
      "metadata": {
        "colab": {
          "base_uri": "https://localhost:8080/"
        },
        "id": "_UWMOU58PBU5",
        "outputId": "eef1308e-f24a-4754-a4d2-6c092632dd05"
      },
      "execution_count": 44,
      "outputs": [
        {
          "output_type": "execute_result",
          "data": {
            "text/plain": [
              "['http://dbpedia.org/resource/Léon_Poliakov',\n",
              " 'http://dbpedia.org/resource/François_Hollande']"
            ]
          },
          "metadata": {},
          "execution_count": 44
        }
      ]
    },
    {
      "cell_type": "code",
      "source": [
        "def get_historical_people_info(URIs):\n",
        "    # Initialize the SPARQLWrapper\n",
        "    sparql = SPARQLWrapper(\"http://dbpedia.org/sparql\")\n",
        "\n",
        "    person_info = {}\n",
        "    for URI in URIs:\n",
        "        # Define the query to get the dbo:birthName and rdfs:comment property in French\n",
        "        query = f\"SELECT ?label ?abstract WHERE {{<{URI}> a dbo:Person . <{URI}> rdfs:label ?label . <{URI}> dbo:abstract ?abstract . FILTER (lang(?label) = 'fr') FILTER (lang(?abstract) = 'fr')}}\"\n",
        "        # Set the query\n",
        "        sparql.setQuery(query)\n",
        "        # Set the return format as JSON\n",
        "        sparql.setReturnFormat(JSON)\n",
        "        # Execute the query\n",
        "        results = sparql.query().convert()\n",
        "        # Extract the label and abstract values\n",
        "        try:\n",
        "            label = results[\"results\"][\"bindings\"][0][\"label\"][\"value\"]\n",
        "            abstract = results[\"results\"][\"bindings\"][0][\"abstract\"][\"value\"]\n",
        "        except:\n",
        "            label = None\n",
        "            abstract = None\n",
        "        # Add the label and abstract to the person_info dictionary\n",
        "        person_info[URI] = {}\n",
        "        person_info[URI][\"label\"] = label\n",
        "        person_info[URI][\"abstract\"] = abstract\n",
        "        \n",
        "    return person_info\n"
      ],
      "metadata": {
        "id": "WyWE7YssHaek"
      },
      "execution_count": 49,
      "outputs": []
    },
    {
      "cell_type": "code",
      "source": [
        "info_dict = get_historical_people_info(uris1)\n",
        "info_dict"
      ],
      "metadata": {
        "colab": {
          "base_uri": "https://localhost:8080/"
        },
        "id": "aXjxzovDL5Ry",
        "outputId": "e7e575aa-85d2-4e33-c731-83f65afec70c"
      },
      "execution_count": 50,
      "outputs": [
        {
          "output_type": "execute_result",
          "data": {
            "text/plain": [
              "{'http://dbpedia.org/resource/Léon_Poliakov': {'label': 'Léon Poliakov',\n",
              "  'abstract': \"Léon Poliakov (en russe : Лев Влади́мирович Поляко́в), né le 25 novembre 1910 à Saint-Pétersbourg et mort à Orsay le 8 décembre 1997, est un historien français. Il est un pionnier de l'histoire de la Shoah et un spécialiste de l'étude de l'antisémitisme.\"},\n",
              " 'http://dbpedia.org/resource/François_Hollande': {'label': 'François Hollande',\n",
              "  'abstract': \"François Hollande [fʁɑ̃swa ʔɔlɑ̃d] , né le 12 août 1954 à Rouen, est un haut fonctionnaire et homme d'État français. Il est président de la République française du 15 mai 2012 au 14 mai 2017. Magistrat à la Cour des comptes et brièvement avocat, il est élu pour la première fois député en 1988. Il exerce la fonction de premier secrétaire du Parti socialiste (PS) de 1997 à 2008, pendant la troisième cohabitation puis dans l'opposition. Au niveau local, il est maire de Tulle de 2001 à 2008 et président du conseil général de Corrèze de 2008 à 2012. Désigné candidat du PS à l'élection présidentielle de 2012 à l'issue d'une primaire à gauche, il est élu chef de l'État face au président sortant, Nicolas Sarkozy, avec 51,6 % des suffrages exprimés au second tour. Sa présidence est marquée par une augmentation de la fiscalité puis par un virage social-libéral (le « pacte de responsabilité »), par la loi sur le mariage homosexuel, par la tenue de la Conférence de Paris sur le climat, par des interventions militaires (au Mali, en Centrafrique et au Moyen-Orient), par la crise migratoire en Europe et par l'institution d'un état d'urgence à la suite de plusieurs attentats islamistes en France. Confronté à de très faibles intentions de vote et à un risque d'échec à une primaire à gauche, il renonce à se porter candidat à un second mandat, ce qui constitue une première sous la Cinquième République. Il se tient en retrait lors de l'élection de 2017, n'apportant pas son soutien au candidat du Parti socialiste, Benoît Hamon. Après sa présidence, il ne siège pas au Conseil constitutionnel — dont il est membre de droit et à vie — et n'occupe pas de mandat ou fonction de premier plan, mais reste présent dans le débat public et la vie politique.\"}}"
            ]
          },
          "metadata": {},
          "execution_count": 50
        }
      ]
    },
    {
      "cell_type": "code",
      "source": [
        "uploaded = files.upload()\n",
        "\n",
        "with open(\"Mémorial des Martyrs de la Déportation.txt\", \"r\", encoding=\"utf-8\") as f:\n",
        "  # Read the contents of the file\n",
        "  text2 = f.read()"
      ],
      "metadata": {
        "colab": {
          "base_uri": "https://localhost:8080/",
          "height": 73
        },
        "outputId": "d91ca6ed-caff-4a1a-d152-536bb4954a6b",
        "id": "G9HIrQtrNMQJ"
      },
      "execution_count": 62,
      "outputs": [
        {
          "output_type": "display_data",
          "data": {
            "text/plain": [
              "<IPython.core.display.HTML object>"
            ],
            "text/html": [
              "\n",
              "     <input type=\"file\" id=\"files-20e3b03d-8dee-40fd-8fc0-fdedf91265b5\" name=\"files[]\" multiple disabled\n",
              "        style=\"border:none\" />\n",
              "     <output id=\"result-20e3b03d-8dee-40fd-8fc0-fdedf91265b5\">\n",
              "      Upload widget is only available when the cell has been executed in the\n",
              "      current browser session. Please rerun this cell to enable.\n",
              "      </output>\n",
              "      <script>// Copyright 2017 Google LLC\n",
              "//\n",
              "// Licensed under the Apache License, Version 2.0 (the \"License\");\n",
              "// you may not use this file except in compliance with the License.\n",
              "// You may obtain a copy of the License at\n",
              "//\n",
              "//      http://www.apache.org/licenses/LICENSE-2.0\n",
              "//\n",
              "// Unless required by applicable law or agreed to in writing, software\n",
              "// distributed under the License is distributed on an \"AS IS\" BASIS,\n",
              "// WITHOUT WARRANTIES OR CONDITIONS OF ANY KIND, either express or implied.\n",
              "// See the License for the specific language governing permissions and\n",
              "// limitations under the License.\n",
              "\n",
              "/**\n",
              " * @fileoverview Helpers for google.colab Python module.\n",
              " */\n",
              "(function(scope) {\n",
              "function span(text, styleAttributes = {}) {\n",
              "  const element = document.createElement('span');\n",
              "  element.textContent = text;\n",
              "  for (const key of Object.keys(styleAttributes)) {\n",
              "    element.style[key] = styleAttributes[key];\n",
              "  }\n",
              "  return element;\n",
              "}\n",
              "\n",
              "// Max number of bytes which will be uploaded at a time.\n",
              "const MAX_PAYLOAD_SIZE = 100 * 1024;\n",
              "\n",
              "function _uploadFiles(inputId, outputId) {\n",
              "  const steps = uploadFilesStep(inputId, outputId);\n",
              "  const outputElement = document.getElementById(outputId);\n",
              "  // Cache steps on the outputElement to make it available for the next call\n",
              "  // to uploadFilesContinue from Python.\n",
              "  outputElement.steps = steps;\n",
              "\n",
              "  return _uploadFilesContinue(outputId);\n",
              "}\n",
              "\n",
              "// This is roughly an async generator (not supported in the browser yet),\n",
              "// where there are multiple asynchronous steps and the Python side is going\n",
              "// to poll for completion of each step.\n",
              "// This uses a Promise to block the python side on completion of each step,\n",
              "// then passes the result of the previous step as the input to the next step.\n",
              "function _uploadFilesContinue(outputId) {\n",
              "  const outputElement = document.getElementById(outputId);\n",
              "  const steps = outputElement.steps;\n",
              "\n",
              "  const next = steps.next(outputElement.lastPromiseValue);\n",
              "  return Promise.resolve(next.value.promise).then((value) => {\n",
              "    // Cache the last promise value to make it available to the next\n",
              "    // step of the generator.\n",
              "    outputElement.lastPromiseValue = value;\n",
              "    return next.value.response;\n",
              "  });\n",
              "}\n",
              "\n",
              "/**\n",
              " * Generator function which is called between each async step of the upload\n",
              " * process.\n",
              " * @param {string} inputId Element ID of the input file picker element.\n",
              " * @param {string} outputId Element ID of the output display.\n",
              " * @return {!Iterable<!Object>} Iterable of next steps.\n",
              " */\n",
              "function* uploadFilesStep(inputId, outputId) {\n",
              "  const inputElement = document.getElementById(inputId);\n",
              "  inputElement.disabled = false;\n",
              "\n",
              "  const outputElement = document.getElementById(outputId);\n",
              "  outputElement.innerHTML = '';\n",
              "\n",
              "  const pickedPromise = new Promise((resolve) => {\n",
              "    inputElement.addEventListener('change', (e) => {\n",
              "      resolve(e.target.files);\n",
              "    });\n",
              "  });\n",
              "\n",
              "  const cancel = document.createElement('button');\n",
              "  inputElement.parentElement.appendChild(cancel);\n",
              "  cancel.textContent = 'Cancel upload';\n",
              "  const cancelPromise = new Promise((resolve) => {\n",
              "    cancel.onclick = () => {\n",
              "      resolve(null);\n",
              "    };\n",
              "  });\n",
              "\n",
              "  // Wait for the user to pick the files.\n",
              "  const files = yield {\n",
              "    promise: Promise.race([pickedPromise, cancelPromise]),\n",
              "    response: {\n",
              "      action: 'starting',\n",
              "    }\n",
              "  };\n",
              "\n",
              "  cancel.remove();\n",
              "\n",
              "  // Disable the input element since further picks are not allowed.\n",
              "  inputElement.disabled = true;\n",
              "\n",
              "  if (!files) {\n",
              "    return {\n",
              "      response: {\n",
              "        action: 'complete',\n",
              "      }\n",
              "    };\n",
              "  }\n",
              "\n",
              "  for (const file of files) {\n",
              "    const li = document.createElement('li');\n",
              "    li.append(span(file.name, {fontWeight: 'bold'}));\n",
              "    li.append(span(\n",
              "        `(${file.type || 'n/a'}) - ${file.size} bytes, ` +\n",
              "        `last modified: ${\n",
              "            file.lastModifiedDate ? file.lastModifiedDate.toLocaleDateString() :\n",
              "                                    'n/a'} - `));\n",
              "    const percent = span('0% done');\n",
              "    li.appendChild(percent);\n",
              "\n",
              "    outputElement.appendChild(li);\n",
              "\n",
              "    const fileDataPromise = new Promise((resolve) => {\n",
              "      const reader = new FileReader();\n",
              "      reader.onload = (e) => {\n",
              "        resolve(e.target.result);\n",
              "      };\n",
              "      reader.readAsArrayBuffer(file);\n",
              "    });\n",
              "    // Wait for the data to be ready.\n",
              "    let fileData = yield {\n",
              "      promise: fileDataPromise,\n",
              "      response: {\n",
              "        action: 'continue',\n",
              "      }\n",
              "    };\n",
              "\n",
              "    // Use a chunked sending to avoid message size limits. See b/62115660.\n",
              "    let position = 0;\n",
              "    do {\n",
              "      const length = Math.min(fileData.byteLength - position, MAX_PAYLOAD_SIZE);\n",
              "      const chunk = new Uint8Array(fileData, position, length);\n",
              "      position += length;\n",
              "\n",
              "      const base64 = btoa(String.fromCharCode.apply(null, chunk));\n",
              "      yield {\n",
              "        response: {\n",
              "          action: 'append',\n",
              "          file: file.name,\n",
              "          data: base64,\n",
              "        },\n",
              "      };\n",
              "\n",
              "      let percentDone = fileData.byteLength === 0 ?\n",
              "          100 :\n",
              "          Math.round((position / fileData.byteLength) * 100);\n",
              "      percent.textContent = `${percentDone}% done`;\n",
              "\n",
              "    } while (position < fileData.byteLength);\n",
              "  }\n",
              "\n",
              "  // All done.\n",
              "  yield {\n",
              "    response: {\n",
              "      action: 'complete',\n",
              "    }\n",
              "  };\n",
              "}\n",
              "\n",
              "scope.google = scope.google || {};\n",
              "scope.google.colab = scope.google.colab || {};\n",
              "scope.google.colab._files = {\n",
              "  _uploadFiles,\n",
              "  _uploadFilesContinue,\n",
              "};\n",
              "})(self);\n",
              "</script> "
            ]
          },
          "metadata": {}
        },
        {
          "output_type": "stream",
          "name": "stdout",
          "text": [
            "Saving Mémorial des Martyrs de la Déportation.txt to Mémorial des Martyrs de la Déportation (4).txt\n"
          ]
        }
      ]
    },
    {
      "cell_type": "code",
      "source": [
        "print(text2)"
      ],
      "metadata": {
        "colab": {
          "base_uri": "https://localhost:8080/"
        },
        "outputId": "471fa450-2b5e-4e11-ef88-e9d3086a2181",
        "id": "AuclD4ZiNMQK"
      },
      "execution_count": 65,
      "outputs": [
        {
          "output_type": "stream",
          "name": "stdout",
          "text": [
            "Mémorial des Martyrs de la Déportation\n",
            "Situation et historique\n",
            "\n",
            "Entrée du mémorial dans le square de l'Île-de-France.\n",
            "Situé dans le 4e arrondissement de Paris, à la pointe est de l’île de la Cité en contrebas du square de l'Île-de-France, le mémorial a été commandé à l'initiative du Réseau du Souvenir qui en a fait don à l'État le 29 février 1964.\n",
            "\n",
            "Le projet, réalisé par l'architecte Georges-Henri Pingusson, a été inauguré le 12 avril 1962 par le général de Gaulle, président de la République.\n"
          ]
        }
      ]
    },
    {
      "cell_type": "code",
      "source": [
        "response2 = spotlight_annotate(text2)\n",
        "store_annotations(response2)\n",
        "response2 = [entry for entry in response2 if entry['similarityScore'] >= 0.99]\n",
        "response2\n"
      ],
      "metadata": {
        "colab": {
          "base_uri": "https://localhost:8080/"
        },
        "outputId": "597a80a4-6d81-4c0b-981d-5a6147631d63",
        "id": "_u2TrH9dR9IO"
      },
      "execution_count": 67,
      "outputs": [
        {
          "output_type": "execute_result",
          "data": {
            "text/plain": [
              "[{'URI': 'http://dbpedia.org/resource/Entrée',\n",
              "  'support': 142,\n",
              "  'types': '',\n",
              "  'surfaceForm': 'Entrée',\n",
              "  'offset': 64,\n",
              "  'similarityScore': 0.9930953961513407,\n",
              "  'percentageOfSecondRank': 0.0},\n",
              " {'URI': 'http://dbpedia.org/resource/Arrondissements_of_Paris',\n",
              "  'support': 172,\n",
              "  'types': 'Wikidata:Q486972,Schema:Place,DBpedia:PopulatedPlace,DBpedia:Place,DBpedia:Location,DBpedia:Settlement',\n",
              "  'surfaceForm': 'arrondissement',\n",
              "  'offset': 135,\n",
              "  'similarityScore': 0.9995417621448184,\n",
              "  'percentageOfSecondRank': 0.0002863626581226001},\n",
              " {'URI': 'http://dbpedia.org/resource/Paris',\n",
              "  'support': 136571,\n",
              "  'types': 'Wikidata:Q515,Wikidata:Q486972,Schema:Place,Schema:City,DBpedia:Settlement,DBpedia:PopulatedPlace,DBpedia:Place,DBpedia:Location,DBpedia:City',\n",
              "  'surfaceForm': 'Paris',\n",
              "  'offset': 153,\n",
              "  'similarityScore': 1.0,\n",
              "  'percentageOfSecondRank': 2.4773912997544526e-19},\n",
              " {'URI': 'http://dbpedia.org/resource/Charles_de_Gaulle',\n",
              "  'support': 3571,\n",
              "  'types': 'Http://xmlns.com/foaf/0.1/Person,Wikidata:Q82955,Wikidata:Q5,Wikidata:Q24229398,Wikidata:Q215627,DUL:NaturalPerson,DUL:Agent,Schema:Person,DBpedia:Person,DBpedia:Agent,DBpedia:Politician',\n",
              "  'surfaceForm': 'général de Gaulle',\n",
              "  'offset': 451,\n",
              "  'similarityScore': 1.0,\n",
              "  'percentageOfSecondRank': 0.0}]"
            ]
          },
          "metadata": {},
          "execution_count": 67
        }
      ]
    },
    {
      "cell_type": "code",
      "source": [
        "uris2 = extract_URIs(response2)\n",
        "uris2"
      ],
      "metadata": {
        "colab": {
          "base_uri": "https://localhost:8080/"
        },
        "outputId": "774e68d1-9f08-4a04-f5fa-bb04e0f35027",
        "id": "ZXOTOKGDR9IP"
      },
      "execution_count": 68,
      "outputs": [
        {
          "output_type": "execute_result",
          "data": {
            "text/plain": [
              "['http://dbpedia.org/resource/Entrée',\n",
              " 'http://dbpedia.org/resource/Arrondissements_of_Paris',\n",
              " 'http://dbpedia.org/resource/Paris',\n",
              " 'http://dbpedia.org/resource/Charles_de_Gaulle']"
            ]
          },
          "metadata": {},
          "execution_count": 68
        }
      ]
    },
    {
      "cell_type": "code",
      "source": [
        "uris2 = check_person(uris2)\n",
        "uris2"
      ],
      "metadata": {
        "colab": {
          "base_uri": "https://localhost:8080/"
        },
        "outputId": "4b0ad8d6-25a2-49d4-afcd-86f335029180",
        "id": "jLJq6nfMR9IQ"
      },
      "execution_count": 69,
      "outputs": [
        {
          "output_type": "execute_result",
          "data": {
            "text/plain": [
              "['http://dbpedia.org/resource/Charles_de_Gaulle']"
            ]
          },
          "metadata": {},
          "execution_count": 69
        }
      ]
    },
    {
      "cell_type": "code",
      "source": [
        "info_dict2 = get_historical_people_info(uris2)\n",
        "info_dict2"
      ],
      "metadata": {
        "colab": {
          "base_uri": "https://localhost:8080/"
        },
        "outputId": "f7743749-cdba-4899-d4c9-ccec6b74b38a",
        "id": "xUBBul3NR9IR"
      },
      "execution_count": 71,
      "outputs": [
        {
          "output_type": "execute_result",
          "data": {
            "text/plain": [
              "{'http://dbpedia.org/resource/Charles_de_Gaulle': {'label': 'Charles de Gaulle',\n",
              "  'abstract': \"Charles de Gaulle (/ʃaʁl də ɡol/ ), communément appelé le général de Gaulle ou parfois simplement le Général, né le 22 novembre 1890 à Lille et mort le 9 novembre 1970 à Colombey-les-Deux-Églises, est un militaire, résistant, homme d'État et écrivain français. Il est notamment chef de la France libre puis dirigeant du Comité français de libération nationale pendant la Seconde Guerre mondiale, président du Gouvernement provisoire de la République française de 1944 à 1946, président du Conseil des ministres de 1958 à 1959, instigateur de la Cinquième République, fondée en 1958, et président de la République de 1959 à 1969, étant le premier à occuper la magistrature suprême sous ce régime. Élevé dans une culture de grandeur nationale, Charles de Gaulle choisit une carrière d'officier. Au cours de la Première Guerre mondiale, il est blessé et fait prisonnier. Par la suite, il sert et publie dans l'entourage de Philippe Pétain, prônant auprès de personnalités politiques l'usage des divisions de blindés dans la guerre contemporaine. En mai 1940, alors colonel, il est placé à la tête d'une division blindée et mène plusieurs contre-attaques pendant la bataille de France ; il est dans la foulée promu général de brigade à titre temporaire. Pendant l'exode qui suit, il est sous-secrétaire d'État à la Guerre et à la Défense nationale dans le gouvernement Reynaud. Rejetant l'armistice demandé par Pétain à l'Allemagne nazie, il lance de Londres, à la BBC, l'« appel du 18 Juin », qui incite le peuple français à résister et à rejoindre les Forces françaises libres. Condamné à mort par contumace et déclaré déchu de la nationalité française par le régime de Vichy, il entend incarner la légitimité de la France et être reconnu en tant que puissance par les Alliés. Ne contrôlant que quelques colonies, mais reconnu par la Résistance, il entretient des relations froides avec Franklin Roosevelt, mais bénéficie généralement de l'appui de Winston Churchill. En 1943, il fusionne la France libre au sein du Comité français de libération nationale, dont il finit par prendre la direction. Il dirige le pays à partir de la Libération ; favorable à un pouvoir exécutif fort, il s'oppose aux projets parlementaires et démissionne en 1946. Il fonde l'année suivante le Rassemblement du peuple français (RPF), mais son refus de tout compromis avec le « régime des partis » l'écarte de toute responsabilité. Il revient au pouvoir après la crise de mai 1958, dans le cadre de la guerre d'Algérie. Investi président du Conseil, il fait approuver la Cinquième République par un référendum. Élu président de la République par un collège élargi de grands électeurs, il prône une « politique de grandeur » de la France. Il affermit les institutions, la monnaie (nouveau franc) et donne un rôle de troisième voie économique à un État planificateur et modernisateur de l'industrie. Il renonce par étapes à l'Algérie française malgré l'opposition des pieds-noirs et des militaires, qui avaient favorisé son retour. Il poursuit la décolonisation de l'Afrique subsaharienne et y maintient l'influence française. En rupture avec le fédéralisme européen et le partage de Yalta, de Gaulle défend l'« indépendance nationale » : il préconise une « Europe des nations » impliquant la réconciliation franco-allemande et qui irait « de l'Atlantique à l'Oural », réalise la force de dissuasion nucléaire française, retire la France du commandement militaire de l'OTAN, oppose un veto à l'entrée du Royaume-Uni dans la Communauté européenne, soutient le « Québec libre », condamne la guerre du Viêt Nam et reconnaît la Chine communiste. Sa vision du pouvoir, à savoir un chef directement approuvé par la Nation, l'oppose aux partis communiste, socialiste et centristes pro-européens. Ces formations critiquent un style de gouvernance trop personnel, voire un « coup d'État permanent », selon la formule du socialiste François Mitterrand, contre lequel de Gaulle est réélu en 1965 au suffrage universel direct — un mode de scrutin qu’il a fait adopter par référendum en 1962 à la suite de l’attentat du Petit-Clamart le visant. Il surmonte la crise de Mai 68 après avoir semblé se retirer, convoquant des élections législatives qui envoient une écrasante majorité gaulliste à l'Assemblée nationale. Mais en 1969, il engage son mandat sur un référendum (sur la réforme du Sénat et la régionalisation) et démissionne après la victoire du « non ». Il se retire dans sa propriété de Colombey-les-Deux-Églises, où il meurt dix-huit mois plus tard. Considéré comme l'un des dirigeants français les plus influents de l'histoire, Charles de Gaulle est aussi un écrivain de renom. Il laisse notamment des Mémoires de guerre, où il affirme s'être toujours « fait une certaine idée de la France », jugeant que « la France ne peut être la France sans la grandeur ». Si sa présidence ne fut pas exempte de contestations, il apparaît, plus d'un demi-siècle après sa mort, comme une figure morale toujours omniprésente dans la vie politique de la Cinquième République, la quasi-totalité de la classe politique lui rendant hommage et revendiquant à divers degrés son héritage, au-delà de la seule droite gaulliste.\"}}"
            ]
          },
          "metadata": {},
          "execution_count": 71
        }
      ]
    },
    {
      "cell_type": "markdown",
      "source": [
        "Nous pouvons enrichir notre ontologie historicalTrip en utilisant les données de Wikipedia et DBpedia. En parseant la section \"histoire\" de Wikipedia, nous pouvons extraire les informations sur les personnes associées à un site historique et utiliser DBpedia Spotlight pour les annoter. Nous pouvons alors ajouter ces triplets à notre ontologie pour la classe historicalSite en utilisant la propriété hasRelatedPerson. De plus, nous pouvons ajouter le nom et l'abstract de ces personnes pour plus de détails."
      ],
      "metadata": {
        "id": "KF6zXoBWUUEH"
      }
    }
  ]
}